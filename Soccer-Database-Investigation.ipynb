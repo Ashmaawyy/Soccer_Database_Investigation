{
  "cells":[
    {
      "cell_type":"markdown",
      "source":[
        "# Project: Soccer Database Invistigation\n",
        "\n",
        "## Table of Contents\n",
        "<ul>\n",
        "<li><a href=\"#intro\">Introduction<\/a><\/li>\n",
        "<li><a href=\"#wrangling\">Data Wrangling<\/a><\/li>\n",
        "<li><a href=\"#eda\">Exploratory Data Analysis<\/a><\/li>\n",
        "<li><a href=\"#conclusions\">Conclusions<\/a><\/li>\n",
        "<\/ul>"
      ],
      "attachments":{
        
      },
      "metadata":{
        
      }
    },
    {
      "cell_type":"markdown",
      "source":[
        "<a id='intro'><\/a>\n",
        "## Introduction\n",
        "\n",
        "#### In this project I will investigate the Soccer Database in order to answer this question: \n",
        "> \n",
        "> #### What are the factors that affect the chances of a team winning a match?\n"
      ],
      "attachments":{
        
      },
      "metadata":{
        
      }
    },
    {
      "cell_type":"code",
      "source":[
        "import pandas as pd\n",
        "import numpy as np\n",
        "import matplotlib.pyplot as plt\n",
        "\n",
        "\n",
        "# Remember to include a 'magic word' so that your visualizations are plotted\n",
        "#   inline with the notebook. See this page for more:\n",
        "#   http:\/\/ipython.readthedocs.io\/en\/stable\/interactive\/magics.html"
      ],
      "execution_count":1,
      "outputs":[
        
      ],
      "metadata":{
        
      }
    },
    {
      "cell_type":"markdown",
      "source":[
        "<a id='wrangling'><\/a>\n",
        "# Data Wrangling\n",
        "\n",
        "\n",
        "### General Properties"
      ],
      "attachments":{
        
      },
      "metadata":{
        
      }
    },
    {
      "cell_type":"code",
      "source":[
        "team = pd.read_csv('Team.csv')\n",
        "team_att = pd.read_csv('Team_Attributes.csv')\n",
        "players = pd.read_csv('Player.csv')\n",
        "player_att = pd.read_csv('Player_Attributes.csv')\n",
        "match = pd.read_csv('Match.csv')\n",
        "team.info()\n",
        "team_att.info()\n",
        "players.info()\n",
        "player_att.info()\n",
        "match.info()\n"
      ],
      "execution_count":2,
      "outputs":[
        {
          "name":"stdout",
          "text":[
            "<class 'pandas.core.frame.DataFrame'>\n",
            "RangeIndex: 299 entries, 0 to 298\n",
            "Data columns (total 5 columns):\n",
            " #   Column            Non-Null Count  Dtype  \n",
            "---  ------            --------------  -----  \n",
            " 0   id                299 non-null    int64  \n",
            " 1   team_api_id       299 non-null    int64  \n",
            " 2   team_fifa_api_id  288 non-null    float64\n",
            " 3   team_long_name    299 non-null    object \n",
            " 4   team_short_name   299 non-null    object \n",
            "dtypes: float64(1), int64(2), object(2)\n",
            "memory usage: 11.8+ KB\n",
            "<class 'pandas.core.frame.DataFrame'>\n",
            "RangeIndex: 1458 entries, 0 to 1457\n",
            "Data columns (total 25 columns):\n",
            " #   Column                          Non-Null Count  Dtype  \n",
            "---  ------                          --------------  -----  \n",
            " 0   id                              1458 non-null   int64  \n",
            " 1   team_fifa_api_id                1458 non-null   int64  \n",
            " 2   team_api_id                     1458 non-null   int64  \n",
            " 3   date                            1458 non-null   object \n",
            " 4   buildUpPlaySpeed                1458 non-null   int64  \n",
            " 5   buildUpPlaySpeedClass           1458 non-null   object \n",
            " 6   buildUpPlayDribbling            489 non-null    float64\n",
            " 7   buildUpPlayDribblingClass       1458 non-null   object \n",
            " 8   buildUpPlayPassing              1458 non-null   int64  \n",
            " 9   buildUpPlayPassingClass         1458 non-null   object \n",
            " 10  buildUpPlayPositioningClass     1458 non-null   object \n",
            " 11  chanceCreationPassing           1458 non-null   int64  \n",
            " 12  chanceCreationPassingClass      1458 non-null   object \n",
            " 13  chanceCreationCrossing          1458 non-null   int64  \n",
            " 14  chanceCreationCrossingClass     1458 non-null   object \n",
            " 15  chanceCreationShooting          1458 non-null   int64  \n",
            " 16  chanceCreationShootingClass     1458 non-null   object \n",
            " 17  chanceCreationPositioningClass  1458 non-null   object \n",
            " 18  defencePressure                 1458 non-null   int64  \n",
            " 19  defencePressureClass            1458 non-null   object \n",
            " 20  defenceAggression               1458 non-null   int64  \n",
            " 21  defenceAggressionClass          1458 non-null   object \n",
            " 22  defenceTeamWidth                1458 non-null   int64  \n",
            " 23  defenceTeamWidthClass           1458 non-null   object \n",
            " 24  defenceDefenderLineClass        1458 non-null   object \n",
            "dtypes: float64(1), int64(11), object(13)\n",
            "memory usage: 284.9+ KB\n",
            "<class 'pandas.core.frame.DataFrame'>\n",
            "RangeIndex: 11060 entries, 0 to 11059\n",
            "Data columns (total 7 columns):\n",
            " #   Column              Non-Null Count  Dtype  \n",
            "---  ------              --------------  -----  \n",
            " 0   id                  11060 non-null  int64  \n",
            " 1   player_api_id       11060 non-null  int64  \n",
            " 2   player_name         11060 non-null  object \n",
            " 3   player_fifa_api_id  11060 non-null  int64  \n",
            " 4   birthday            11060 non-null  object \n",
            " 5   height              11060 non-null  float64\n",
            " 6   weight              11060 non-null  int64  \n",
            "dtypes: float64(1), int64(4), object(2)\n",
            "memory usage: 605.0+ KB\n",
            "<class 'pandas.core.frame.DataFrame'>\n",
            "RangeIndex: 183978 entries, 0 to 183977\n",
            "Data columns (total 42 columns):\n",
            " #   Column               Non-Null Count   Dtype  \n",
            "---  ------               --------------   -----  \n",
            " 0   id                   183978 non-null  int64  \n",
            " 1   player_fifa_api_id   183978 non-null  int64  \n",
            " 2   player_api_id        183978 non-null  int64  \n",
            " 3   date                 183978 non-null  object \n",
            " 4   overall_rating       183142 non-null  float64\n",
            " 5   potential            183142 non-null  float64\n",
            " 6   preferred_foot       183142 non-null  object \n",
            " 7   attacking_work_rate  180748 non-null  object \n",
            " 8   defensive_work_rate  183142 non-null  object \n",
            " 9   crossing             183142 non-null  float64\n",
            " 10  finishing            183142 non-null  float64\n",
            " 11  heading_accuracy     183142 non-null  float64\n",
            " 12  short_passing        183142 non-null  float64\n",
            " 13  volleys              181265 non-null  float64\n",
            " 14  dribbling            183142 non-null  float64\n",
            " 15  curve                181265 non-null  float64\n",
            " 16  free_kick_accuracy   183142 non-null  float64\n",
            " 17  long_passing         183142 non-null  float64\n",
            " 18  ball_control         183142 non-null  float64\n",
            " 19  acceleration         183142 non-null  float64\n",
            " 20  sprint_speed         183142 non-null  float64\n",
            " 21  agility              181265 non-null  float64\n",
            " 22  reactions            183142 non-null  float64\n",
            " 23  balance              181265 non-null  float64\n",
            " 24  shot_power           183142 non-null  float64\n",
            " 25  jumping              181265 non-null  float64\n",
            " 26  stamina              183142 non-null  float64\n",
            " 27  strength             183142 non-null  float64\n",
            " 28  long_shots           183142 non-null  float64\n",
            " 29  aggression           183142 non-null  float64\n",
            " 30  interceptions        183142 non-null  float64\n",
            " 31  positioning          183142 non-null  float64\n",
            " 32  vision               181265 non-null  float64\n",
            " 33  penalties            183142 non-null  float64\n",
            " 34  marking              183142 non-null  float64\n",
            " 35  standing_tackle      183142 non-null  float64\n",
            " 36  sliding_tackle       181265 non-null  float64\n",
            " 37  gk_diving            183142 non-null  float64\n",
            " 38  gk_handling          183142 non-null  float64\n",
            " 39  gk_kicking           183142 non-null  float64\n",
            " 40  gk_positioning       183142 non-null  float64\n",
            " 41  gk_reflexes          183142 non-null  float64\n",
            "dtypes: float64(35), int64(3), object(4)\n",
            "memory usage: 59.0+ MB\n",
            "<class 'pandas.core.frame.DataFrame'>\n",
            "RangeIndex: 25979 entries, 0 to 25978\n",
            "Columns: 115 entries, id to BSA\n",
            "dtypes: float64(96), int64(9), object(10)\n",
            "memory usage: 22.8+ MB\n"
          ],
          "output_type":"stream"
        }
      ],
      "metadata":{
        
      }
    },
    {
      "cell_type":"code",
      "source":[
        "match.describe()"
      ],
      "execution_count":3,
      "outputs":[
        {
          "data":{
            "text\/html":[
              "<div>\n",
              "<style scoped>\n",
              "    .dataframe tbody tr th:only-of-type {\n",
              "        vertical-align: middle;\n",
              "    }\n",
              "\n",
              "    .dataframe tbody tr th {\n",
              "        vertical-align: top;\n",
              "    }\n",
              "\n",
              "    .dataframe thead th {\n",
              "        text-align: right;\n",
              "    }\n",
              "<\/style>\n",
              "<table border=\"1\" class=\"dataframe\">\n",
              "  <thead>\n",
              "    <tr style=\"text-align: right;\">\n",
              "      <th><\/th>\n",
              "      <th>id<\/th>\n",
              "      <th>country_id<\/th>\n",
              "      <th>league_id<\/th>\n",
              "      <th>stage<\/th>\n",
              "      <th>match_api_id<\/th>\n",
              "      <th>home_team_api_id<\/th>\n",
              "      <th>away_team_api_id<\/th>\n",
              "      <th>home_team_goal<\/th>\n",
              "      <th>away_team_goal<\/th>\n",
              "      <th>home_player_X1<\/th>\n",
              "      <th>...<\/th>\n",
              "      <th>SJA<\/th>\n",
              "      <th>VCH<\/th>\n",
              "      <th>VCD<\/th>\n",
              "      <th>VCA<\/th>\n",
              "      <th>GBH<\/th>\n",
              "      <th>GBD<\/th>\n",
              "      <th>GBA<\/th>\n",
              "      <th>BSH<\/th>\n",
              "      <th>BSD<\/th>\n",
              "      <th>BSA<\/th>\n",
              "    <\/tr>\n",
              "  <\/thead>\n",
              "  <tbody>\n",
              "    <tr>\n",
              "      <th>count<\/th>\n",
              "      <td>25979.000000<\/td>\n",
              "      <td>25979.000000<\/td>\n",
              "      <td>25979.000000<\/td>\n",
              "      <td>25979.000000<\/td>\n",
              "      <td>2.597900e+04<\/td>\n",
              "      <td>25979.000000<\/td>\n",
              "      <td>25979.000000<\/td>\n",
              "      <td>25979.000000<\/td>\n",
              "      <td>25979.000000<\/td>\n",
              "      <td>24158.000000<\/td>\n",
              "      <td>...<\/td>\n",
              "      <td>17097.000000<\/td>\n",
              "      <td>22568.000000<\/td>\n",
              "      <td>22568.000000<\/td>\n",
              "      <td>22568.000000<\/td>\n",
              "      <td>14162.000000<\/td>\n",
              "      <td>14162.000000<\/td>\n",
              "      <td>14162.000000<\/td>\n",
              "      <td>14161.000000<\/td>\n",
              "      <td>14161.000000<\/td>\n",
              "      <td>14161.000000<\/td>\n",
              "    <\/tr>\n",
              "    <tr>\n",
              "      <th>mean<\/th>\n",
              "      <td>12990.000000<\/td>\n",
              "      <td>11738.630317<\/td>\n",
              "      <td>11738.630317<\/td>\n",
              "      <td>18.242773<\/td>\n",
              "      <td>1.195429e+06<\/td>\n",
              "      <td>9984.371993<\/td>\n",
              "      <td>9984.475115<\/td>\n",
              "      <td>1.544594<\/td>\n",
              "      <td>1.160938<\/td>\n",
              "      <td>0.999586<\/td>\n",
              "      <td>...<\/td>\n",
              "      <td>4.622343<\/td>\n",
              "      <td>2.668107<\/td>\n",
              "      <td>3.899048<\/td>\n",
              "      <td>4.840281<\/td>\n",
              "      <td>2.498764<\/td>\n",
              "      <td>3.648189<\/td>\n",
              "      <td>4.353097<\/td>\n",
              "      <td>2.497894<\/td>\n",
              "      <td>3.660742<\/td>\n",
              "      <td>4.405663<\/td>\n",
              "    <\/tr>\n",
              "    <tr>\n",
              "      <th>std<\/th>\n",
              "      <td>7499.635658<\/td>\n",
              "      <td>7553.936759<\/td>\n",
              "      <td>7553.936759<\/td>\n",
              "      <td>10.407354<\/td>\n",
              "      <td>4.946279e+05<\/td>\n",
              "      <td>14087.453758<\/td>\n",
              "      <td>14087.445135<\/td>\n",
              "      <td>1.297158<\/td>\n",
              "      <td>1.142110<\/td>\n",
              "      <td>0.022284<\/td>\n",
              "      <td>...<\/td>\n",
              "      <td>3.632164<\/td>\n",
              "      <td>1.928753<\/td>\n",
              "      <td>1.248221<\/td>\n",
              "      <td>4.318338<\/td>\n",
              "      <td>1.489299<\/td>\n",
              "      <td>0.867440<\/td>\n",
              "      <td>3.010189<\/td>\n",
              "      <td>1.507793<\/td>\n",
              "      <td>0.868272<\/td>\n",
              "      <td>3.189814<\/td>\n",
              "    <\/tr>\n",
              "    <tr>\n",
              "      <th>min<\/th>\n",
              "      <td>1.000000<\/td>\n",
              "      <td>1.000000<\/td>\n",
              "      <td>1.000000<\/td>\n",
              "      <td>1.000000<\/td>\n",
              "      <td>4.831290e+05<\/td>\n",
              "      <td>1601.000000<\/td>\n",
              "      <td>1601.000000<\/td>\n",
              "      <td>0.000000<\/td>\n",
              "      <td>0.000000<\/td>\n",
              "      <td>0.000000<\/td>\n",
              "      <td>...<\/td>\n",
              "      <td>1.100000<\/td>\n",
              "      <td>1.030000<\/td>\n",
              "      <td>1.620000<\/td>\n",
              "      <td>1.080000<\/td>\n",
              "      <td>1.050000<\/td>\n",
              "      <td>1.450000<\/td>\n",
              "      <td>1.120000<\/td>\n",
              "      <td>1.040000<\/td>\n",
              "      <td>1.330000<\/td>\n",
              "      <td>1.120000<\/td>\n",
              "    <\/tr>\n",
              "    <tr>\n",
              "      <th>25%<\/th>\n",
              "      <td>6495.500000<\/td>\n",
              "      <td>4769.000000<\/td>\n",
              "      <td>4769.000000<\/td>\n",
              "      <td>9.000000<\/td>\n",
              "      <td>7.684365e+05<\/td>\n",
              "      <td>8475.000000<\/td>\n",
              "      <td>8475.000000<\/td>\n",
              "      <td>1.000000<\/td>\n",
              "      <td>0.000000<\/td>\n",
              "      <td>1.000000<\/td>\n",
              "      <td>...<\/td>\n",
              "      <td>2.500000<\/td>\n",
              "      <td>1.700000<\/td>\n",
              "      <td>3.300000<\/td>\n",
              "      <td>2.550000<\/td>\n",
              "      <td>1.670000<\/td>\n",
              "      <td>3.200000<\/td>\n",
              "      <td>2.500000<\/td>\n",
              "      <td>1.670000<\/td>\n",
              "      <td>3.250000<\/td>\n",
              "      <td>2.500000<\/td>\n",
              "    <\/tr>\n",
              "    <tr>\n",
              "      <th>50%<\/th>\n",
              "      <td>12990.000000<\/td>\n",
              "      <td>10257.000000<\/td>\n",
              "      <td>10257.000000<\/td>\n",
              "      <td>18.000000<\/td>\n",
              "      <td>1.147511e+06<\/td>\n",
              "      <td>8697.000000<\/td>\n",
              "      <td>8697.000000<\/td>\n",
              "      <td>1.000000<\/td>\n",
              "      <td>1.000000<\/td>\n",
              "      <td>1.000000<\/td>\n",
              "      <td>...<\/td>\n",
              "      <td>3.500000<\/td>\n",
              "      <td>2.150000<\/td>\n",
              "      <td>3.500000<\/td>\n",
              "      <td>3.500000<\/td>\n",
              "      <td>2.100000<\/td>\n",
              "      <td>3.300000<\/td>\n",
              "      <td>3.400000<\/td>\n",
              "      <td>2.100000<\/td>\n",
              "      <td>3.400000<\/td>\n",
              "      <td>3.400000<\/td>\n",
              "    <\/tr>\n",
              "    <tr>\n",
              "      <th>75%<\/th>\n",
              "      <td>19484.500000<\/td>\n",
              "      <td>17642.000000<\/td>\n",
              "      <td>17642.000000<\/td>\n",
              "      <td>27.000000<\/td>\n",
              "      <td>1.709852e+06<\/td>\n",
              "      <td>9925.000000<\/td>\n",
              "      <td>9925.000000<\/td>\n",
              "      <td>2.000000<\/td>\n",
              "      <td>2.000000<\/td>\n",
              "      <td>1.000000<\/td>\n",
              "      <td>...<\/td>\n",
              "      <td>5.250000<\/td>\n",
              "      <td>2.800000<\/td>\n",
              "      <td>4.000000<\/td>\n",
              "      <td>5.400000<\/td>\n",
              "      <td>2.650000<\/td>\n",
              "      <td>3.750000<\/td>\n",
              "      <td>5.000000<\/td>\n",
              "      <td>2.620000<\/td>\n",
              "      <td>3.750000<\/td>\n",
              "      <td>5.000000<\/td>\n",
              "    <\/tr>\n",
              "    <tr>\n",
              "      <th>max<\/th>\n",
              "      <td>25979.000000<\/td>\n",
              "      <td>24558.000000<\/td>\n",
              "      <td>24558.000000<\/td>\n",
              "      <td>38.000000<\/td>\n",
              "      <td>2.216672e+06<\/td>\n",
              "      <td>274581.000000<\/td>\n",
              "      <td>274581.000000<\/td>\n",
              "      <td>10.000000<\/td>\n",
              "      <td>9.000000<\/td>\n",
              "      <td>2.000000<\/td>\n",
              "      <td>...<\/td>\n",
              "      <td>41.000000<\/td>\n",
              "      <td>36.000000<\/td>\n",
              "      <td>26.000000<\/td>\n",
              "      <td>67.000000<\/td>\n",
              "      <td>21.000000<\/td>\n",
              "      <td>11.000000<\/td>\n",
              "      <td>34.000000<\/td>\n",
              "      <td>17.000000<\/td>\n",
              "      <td>13.000000<\/td>\n",
              "      <td>34.000000<\/td>\n",
              "    <\/tr>\n",
              "  <\/tbody>\n",
              "<\/table>\n",
              "<p>8 rows × 105 columns<\/p>\n",
              "<\/div>"
            ]
          },
          "metadata":{
            
          },
          "output_type":"display_data"
        }
      ],
      "metadata":{
        
      }
    },
    {
      "cell_type":"code",
      "source":[
        "match.shape"
      ],
      "execution_count":4,
      "outputs":[
        {
          "data":{
            "text\/plain":[
              "(25979, 115)"
            ]
          },
          "metadata":{
            
          },
          "output_type":"display_data"
        }
      ],
      "metadata":{
        
      }
    },
    {
      "cell_type":"markdown",
      "source":[
        "\n",
        "# Data Cleaning"
      ],
      "attachments":{
        
      },
      "metadata":{
        
      }
    },
    {
      "cell_type":"markdown",
      "source":[
        "## We can drop N\/A values from the player attributes file since they are few, there is a column with too many missing values in the team attributes file which is ('buildUpPlayDribbling')"
      ],
      "attachments":{
        
      },
      "metadata":{
        
      }
    },
    {
      "cell_type":"code",
      "source":[
        "player_att.dropna()\n",
        "player_att.head()"
      ],
      "execution_count":5,
      "outputs":[
        {
          "data":{
            "text\/html":[
              "<div>\n",
              "<style scoped>\n",
              "    .dataframe tbody tr th:only-of-type {\n",
              "        vertical-align: middle;\n",
              "    }\n",
              "\n",
              "    .dataframe tbody tr th {\n",
              "        vertical-align: top;\n",
              "    }\n",
              "\n",
              "    .dataframe thead th {\n",
              "        text-align: right;\n",
              "    }\n",
              "<\/style>\n",
              "<table border=\"1\" class=\"dataframe\">\n",
              "  <thead>\n",
              "    <tr style=\"text-align: right;\">\n",
              "      <th><\/th>\n",
              "      <th>id<\/th>\n",
              "      <th>player_fifa_api_id<\/th>\n",
              "      <th>player_api_id<\/th>\n",
              "      <th>date<\/th>\n",
              "      <th>overall_rating<\/th>\n",
              "      <th>potential<\/th>\n",
              "      <th>preferred_foot<\/th>\n",
              "      <th>attacking_work_rate<\/th>\n",
              "      <th>defensive_work_rate<\/th>\n",
              "      <th>crossing<\/th>\n",
              "      <th>...<\/th>\n",
              "      <th>vision<\/th>\n",
              "      <th>penalties<\/th>\n",
              "      <th>marking<\/th>\n",
              "      <th>standing_tackle<\/th>\n",
              "      <th>sliding_tackle<\/th>\n",
              "      <th>gk_diving<\/th>\n",
              "      <th>gk_handling<\/th>\n",
              "      <th>gk_kicking<\/th>\n",
              "      <th>gk_positioning<\/th>\n",
              "      <th>gk_reflexes<\/th>\n",
              "    <\/tr>\n",
              "  <\/thead>\n",
              "  <tbody>\n",
              "    <tr>\n",
              "      <th>0<\/th>\n",
              "      <td>1<\/td>\n",
              "      <td>218353<\/td>\n",
              "      <td>505942<\/td>\n",
              "      <td>2016-02-18 00:00:00<\/td>\n",
              "      <td>67.0<\/td>\n",
              "      <td>71.0<\/td>\n",
              "      <td>right<\/td>\n",
              "      <td>medium<\/td>\n",
              "      <td>medium<\/td>\n",
              "      <td>49.0<\/td>\n",
              "      <td>...<\/td>\n",
              "      <td>54.0<\/td>\n",
              "      <td>48.0<\/td>\n",
              "      <td>65.0<\/td>\n",
              "      <td>69.0<\/td>\n",
              "      <td>69.0<\/td>\n",
              "      <td>6.0<\/td>\n",
              "      <td>11.0<\/td>\n",
              "      <td>10.0<\/td>\n",
              "      <td>8.0<\/td>\n",
              "      <td>8.0<\/td>\n",
              "    <\/tr>\n",
              "    <tr>\n",
              "      <th>1<\/th>\n",
              "      <td>2<\/td>\n",
              "      <td>218353<\/td>\n",
              "      <td>505942<\/td>\n",
              "      <td>2015-11-19 00:00:00<\/td>\n",
              "      <td>67.0<\/td>\n",
              "      <td>71.0<\/td>\n",
              "      <td>right<\/td>\n",
              "      <td>medium<\/td>\n",
              "      <td>medium<\/td>\n",
              "      <td>49.0<\/td>\n",
              "      <td>...<\/td>\n",
              "      <td>54.0<\/td>\n",
              "      <td>48.0<\/td>\n",
              "      <td>65.0<\/td>\n",
              "      <td>69.0<\/td>\n",
              "      <td>69.0<\/td>\n",
              "      <td>6.0<\/td>\n",
              "      <td>11.0<\/td>\n",
              "      <td>10.0<\/td>\n",
              "      <td>8.0<\/td>\n",
              "      <td>8.0<\/td>\n",
              "    <\/tr>\n",
              "    <tr>\n",
              "      <th>2<\/th>\n",
              "      <td>3<\/td>\n",
              "      <td>218353<\/td>\n",
              "      <td>505942<\/td>\n",
              "      <td>2015-09-21 00:00:00<\/td>\n",
              "      <td>62.0<\/td>\n",
              "      <td>66.0<\/td>\n",
              "      <td>right<\/td>\n",
              "      <td>medium<\/td>\n",
              "      <td>medium<\/td>\n",
              "      <td>49.0<\/td>\n",
              "      <td>...<\/td>\n",
              "      <td>54.0<\/td>\n",
              "      <td>48.0<\/td>\n",
              "      <td>65.0<\/td>\n",
              "      <td>66.0<\/td>\n",
              "      <td>69.0<\/td>\n",
              "      <td>6.0<\/td>\n",
              "      <td>11.0<\/td>\n",
              "      <td>10.0<\/td>\n",
              "      <td>8.0<\/td>\n",
              "      <td>8.0<\/td>\n",
              "    <\/tr>\n",
              "    <tr>\n",
              "      <th>3<\/th>\n",
              "      <td>4<\/td>\n",
              "      <td>218353<\/td>\n",
              "      <td>505942<\/td>\n",
              "      <td>2015-03-20 00:00:00<\/td>\n",
              "      <td>61.0<\/td>\n",
              "      <td>65.0<\/td>\n",
              "      <td>right<\/td>\n",
              "      <td>medium<\/td>\n",
              "      <td>medium<\/td>\n",
              "      <td>48.0<\/td>\n",
              "      <td>...<\/td>\n",
              "      <td>53.0<\/td>\n",
              "      <td>47.0<\/td>\n",
              "      <td>62.0<\/td>\n",
              "      <td>63.0<\/td>\n",
              "      <td>66.0<\/td>\n",
              "      <td>5.0<\/td>\n",
              "      <td>10.0<\/td>\n",
              "      <td>9.0<\/td>\n",
              "      <td>7.0<\/td>\n",
              "      <td>7.0<\/td>\n",
              "    <\/tr>\n",
              "    <tr>\n",
              "      <th>4<\/th>\n",
              "      <td>5<\/td>\n",
              "      <td>218353<\/td>\n",
              "      <td>505942<\/td>\n",
              "      <td>2007-02-22 00:00:00<\/td>\n",
              "      <td>61.0<\/td>\n",
              "      <td>65.0<\/td>\n",
              "      <td>right<\/td>\n",
              "      <td>medium<\/td>\n",
              "      <td>medium<\/td>\n",
              "      <td>48.0<\/td>\n",
              "      <td>...<\/td>\n",
              "      <td>53.0<\/td>\n",
              "      <td>47.0<\/td>\n",
              "      <td>62.0<\/td>\n",
              "      <td>63.0<\/td>\n",
              "      <td>66.0<\/td>\n",
              "      <td>5.0<\/td>\n",
              "      <td>10.0<\/td>\n",
              "      <td>9.0<\/td>\n",
              "      <td>7.0<\/td>\n",
              "      <td>7.0<\/td>\n",
              "    <\/tr>\n",
              "  <\/tbody>\n",
              "<\/table>\n",
              "<p>5 rows × 42 columns<\/p>\n",
              "<\/div>"
            ]
          },
          "metadata":{
            
          },
          "output_type":"display_data"
        }
      ],
      "metadata":{
        
      }
    },
    {
      "cell_type":"markdown",
      "source":[
        "### The Match dataframe has too many columns (115) & 25+K records with many N\/A Values we need to drop the N\/A values + unnecessary columns for easier processing and visualization"
      ],
      "attachments":{
        
      },
      "metadata":{
        
      }
    },
    {
      "cell_type":"code",
      "source":[
        "match.drop(match.columns[[11,12,13,14,15,16,17,18,19,20,21,22,23,24,25,26,27,28,29,30]], axis= 1, inplace= True)\n",
        "match.drop(match.columns[[11,12,13,14,15,16,17,18,19,20,21,22,23,24,25,26,27,28,29,30]], axis= 1, inplace= True)\n",
        "match.info"
      ],
      "execution_count":7,
      "outputs":[
        {
          "data":{
            "text\/plain":[
              "<bound method DataFrame.info of           id  country_id  league_id     season  stage                 date  \\\n",
              "0          1           1          1  2008\/2009      1  2008-08-17 00:00:00   \n",
              "1          2           1          1  2008\/2009      1  2008-08-16 00:00:00   \n",
              "2          3           1          1  2008\/2009      1  2008-08-16 00:00:00   \n",
              "3          4           1          1  2008\/2009      1  2008-08-17 00:00:00   \n",
              "4          5           1          1  2008\/2009      1  2008-08-16 00:00:00   \n",
              "...      ...         ...        ...        ...    ...                  ...   \n",
              "25974  25975       24558      24558  2015\/2016      9  2015-09-22 00:00:00   \n",
              "25975  25976       24558      24558  2015\/2016      9  2015-09-23 00:00:00   \n",
              "25976  25977       24558      24558  2015\/2016      9  2015-09-23 00:00:00   \n",
              "25977  25978       24558      24558  2015\/2016      9  2015-09-22 00:00:00   \n",
              "25978  25979       24558      24558  2015\/2016      9  2015-09-23 00:00:00   \n",
              "\n",
              "       match_api_id  home_team_api_id  away_team_api_id  home_team_goal  ...  \\\n",
              "0            492473              9987              9993               1  ...   \n",
              "1            492474             10000              9994               0  ...   \n",
              "2            492475              9984              8635               0  ...   \n",
              "3            492476              9991              9998               5  ...   \n",
              "4            492477              7947              9985               1  ...   \n",
              "...             ...               ...               ...             ...  ...   \n",
              "25974       1992091             10190             10191               1  ...   \n",
              "25975       1992092              9824             10199               1  ...   \n",
              "25976       1992093              9956             10179               2  ...   \n",
              "25977       1992094              7896             10243               0  ...   \n",
              "25978       1992095             10192              9931               4  ...   \n",
              "\n",
              "        SJA   VCH   VCD   VCA   GBH   GBD   GBA   BSH   BSD   BSA  \n",
              "0      4.00  1.65  3.40  4.50  1.78  3.25  4.00  1.73  3.40  4.20  \n",
              "1      3.80  2.00  3.25  3.25  1.85  3.25  3.75  1.91  3.25  3.60  \n",
              "2      2.50  2.35  3.25  2.65  2.50  3.20  2.50  2.30  3.20  2.75  \n",
              "3      7.50  1.45  3.75  6.50  1.50  3.75  5.50  1.44  3.75  6.50  \n",
              "4      1.73  4.50  3.40  1.65  4.50  3.50  1.65  4.75  3.30  1.67  \n",
              "...     ...   ...   ...   ...   ...   ...   ...   ...   ...   ...  \n",
              "25974   NaN   NaN   NaN   NaN   NaN   NaN   NaN   NaN   NaN   NaN  \n",
              "25975   NaN   NaN   NaN   NaN   NaN   NaN   NaN   NaN   NaN   NaN  \n",
              "25976   NaN   NaN   NaN   NaN   NaN   NaN   NaN   NaN   NaN   NaN  \n",
              "25977   NaN   NaN   NaN   NaN   NaN   NaN   NaN   NaN   NaN   NaN  \n",
              "25978   NaN   NaN   NaN   NaN   NaN   NaN   NaN   NaN   NaN   NaN  \n",
              "\n",
              "[25979 rows x 35 columns]>"
            ]
          },
          "metadata":{
            
          },
          "output_type":"display_data"
        }
      ],
      "metadata":{
        
      }
    },
    {
      "cell_type":"code",
      "source":[
        "match.drop(match.columns[[11,12,13,14]], axis=1, inplace= True)\n",
        "match.info"
      ],
      "execution_count":13,
      "outputs":[
        {
          "data":{
            "text\/plain":[
              "<bound method DataFrame.info of           id  country_id  league_id     season  stage                 date  \\\n",
              "0          1           1          1  2008\/2009      1  2008-08-17 00:00:00   \n",
              "1          2           1          1  2008\/2009      1  2008-08-16 00:00:00   \n",
              "2          3           1          1  2008\/2009      1  2008-08-16 00:00:00   \n",
              "3          4           1          1  2008\/2009      1  2008-08-17 00:00:00   \n",
              "4          5           1          1  2008\/2009      1  2008-08-16 00:00:00   \n",
              "...      ...         ...        ...        ...    ...                  ...   \n",
              "25974  25975       24558      24558  2015\/2016      9  2015-09-22 00:00:00   \n",
              "25975  25976       24558      24558  2015\/2016      9  2015-09-23 00:00:00   \n",
              "25976  25977       24558      24558  2015\/2016      9  2015-09-23 00:00:00   \n",
              "25977  25978       24558      24558  2015\/2016      9  2015-09-22 00:00:00   \n",
              "25978  25979       24558      24558  2015\/2016      9  2015-09-23 00:00:00   \n",
              "\n",
              "       match_api_id  home_team_api_id  away_team_api_id  home_team_goal  \\\n",
              "0            492473              9987              9993               1   \n",
              "1            492474             10000              9994               0   \n",
              "2            492475              9984              8635               0   \n",
              "3            492476              9991              9998               5   \n",
              "4            492477              7947              9985               1   \n",
              "...             ...               ...               ...             ...   \n",
              "25974       1992091             10190             10191               1   \n",
              "25975       1992092              9824             10199               1   \n",
              "25976       1992093              9956             10179               2   \n",
              "25977       1992094              7896             10243               0   \n",
              "25978       1992095             10192              9931               4   \n",
              "\n",
              "       away_team_goal  \n",
              "0                   1  \n",
              "1                   0  \n",
              "2                   3  \n",
              "3                   0  \n",
              "4                   3  \n",
              "...               ...  \n",
              "25974               0  \n",
              "25975               2  \n",
              "25976               0  \n",
              "25977               0  \n",
              "25978               3  \n",
              "\n",
              "[25979 rows x 11 columns]>"
            ]
          },
          "metadata":{
            
          },
          "output_type":"display_data"
        }
      ],
      "metadata":{
        
      }
    },
    {
      "cell_type":"code",
      "source":[
        "match.describe()"
      ],
      "execution_count":14,
      "outputs":[
        {
          "data":{
            "text\/html":[
              "<div>\n",
              "<style scoped>\n",
              "    .dataframe tbody tr th:only-of-type {\n",
              "        vertical-align: middle;\n",
              "    }\n",
              "\n",
              "    .dataframe tbody tr th {\n",
              "        vertical-align: top;\n",
              "    }\n",
              "\n",
              "    .dataframe thead th {\n",
              "        text-align: right;\n",
              "    }\n",
              "<\/style>\n",
              "<table border=\"1\" class=\"dataframe\">\n",
              "  <thead>\n",
              "    <tr style=\"text-align: right;\">\n",
              "      <th><\/th>\n",
              "      <th>id<\/th>\n",
              "      <th>country_id<\/th>\n",
              "      <th>league_id<\/th>\n",
              "      <th>stage<\/th>\n",
              "      <th>match_api_id<\/th>\n",
              "      <th>home_team_api_id<\/th>\n",
              "      <th>away_team_api_id<\/th>\n",
              "      <th>home_team_goal<\/th>\n",
              "      <th>away_team_goal<\/th>\n",
              "    <\/tr>\n",
              "  <\/thead>\n",
              "  <tbody>\n",
              "    <tr>\n",
              "      <th>count<\/th>\n",
              "      <td>25979.000000<\/td>\n",
              "      <td>25979.000000<\/td>\n",
              "      <td>25979.000000<\/td>\n",
              "      <td>25979.000000<\/td>\n",
              "      <td>2.597900e+04<\/td>\n",
              "      <td>25979.000000<\/td>\n",
              "      <td>25979.000000<\/td>\n",
              "      <td>25979.000000<\/td>\n",
              "      <td>25979.000000<\/td>\n",
              "    <\/tr>\n",
              "    <tr>\n",
              "      <th>mean<\/th>\n",
              "      <td>12990.000000<\/td>\n",
              "      <td>11738.630317<\/td>\n",
              "      <td>11738.630317<\/td>\n",
              "      <td>18.242773<\/td>\n",
              "      <td>1.195429e+06<\/td>\n",
              "      <td>9984.371993<\/td>\n",
              "      <td>9984.475115<\/td>\n",
              "      <td>1.544594<\/td>\n",
              "      <td>1.160938<\/td>\n",
              "    <\/tr>\n",
              "    <tr>\n",
              "      <th>std<\/th>\n",
              "      <td>7499.635658<\/td>\n",
              "      <td>7553.936759<\/td>\n",
              "      <td>7553.936759<\/td>\n",
              "      <td>10.407354<\/td>\n",
              "      <td>4.946279e+05<\/td>\n",
              "      <td>14087.453758<\/td>\n",
              "      <td>14087.445135<\/td>\n",
              "      <td>1.297158<\/td>\n",
              "      <td>1.142110<\/td>\n",
              "    <\/tr>\n",
              "    <tr>\n",
              "      <th>min<\/th>\n",
              "      <td>1.000000<\/td>\n",
              "      <td>1.000000<\/td>\n",
              "      <td>1.000000<\/td>\n",
              "      <td>1.000000<\/td>\n",
              "      <td>4.831290e+05<\/td>\n",
              "      <td>1601.000000<\/td>\n",
              "      <td>1601.000000<\/td>\n",
              "      <td>0.000000<\/td>\n",
              "      <td>0.000000<\/td>\n",
              "    <\/tr>\n",
              "    <tr>\n",
              "      <th>25%<\/th>\n",
              "      <td>6495.500000<\/td>\n",
              "      <td>4769.000000<\/td>\n",
              "      <td>4769.000000<\/td>\n",
              "      <td>9.000000<\/td>\n",
              "      <td>7.684365e+05<\/td>\n",
              "      <td>8475.000000<\/td>\n",
              "      <td>8475.000000<\/td>\n",
              "      <td>1.000000<\/td>\n",
              "      <td>0.000000<\/td>\n",
              "    <\/tr>\n",
              "    <tr>\n",
              "      <th>50%<\/th>\n",
              "      <td>12990.000000<\/td>\n",
              "      <td>10257.000000<\/td>\n",
              "      <td>10257.000000<\/td>\n",
              "      <td>18.000000<\/td>\n",
              "      <td>1.147511e+06<\/td>\n",
              "      <td>8697.000000<\/td>\n",
              "      <td>8697.000000<\/td>\n",
              "      <td>1.000000<\/td>\n",
              "      <td>1.000000<\/td>\n",
              "    <\/tr>\n",
              "    <tr>\n",
              "      <th>75%<\/th>\n",
              "      <td>19484.500000<\/td>\n",
              "      <td>17642.000000<\/td>\n",
              "      <td>17642.000000<\/td>\n",
              "      <td>27.000000<\/td>\n",
              "      <td>1.709852e+06<\/td>\n",
              "      <td>9925.000000<\/td>\n",
              "      <td>9925.000000<\/td>\n",
              "      <td>2.000000<\/td>\n",
              "      <td>2.000000<\/td>\n",
              "    <\/tr>\n",
              "    <tr>\n",
              "      <th>max<\/th>\n",
              "      <td>25979.000000<\/td>\n",
              "      <td>24558.000000<\/td>\n",
              "      <td>24558.000000<\/td>\n",
              "      <td>38.000000<\/td>\n",
              "      <td>2.216672e+06<\/td>\n",
              "      <td>274581.000000<\/td>\n",
              "      <td>274581.000000<\/td>\n",
              "      <td>10.000000<\/td>\n",
              "      <td>9.000000<\/td>\n",
              "    <\/tr>\n",
              "  <\/tbody>\n",
              "<\/table>\n",
              "<\/div>"
            ]
          },
          "metadata":{
            
          },
          "output_type":"display_data"
        }
      ],
      "metadata":{
        
      }
    },
    {
      "cell_type":"markdown",
      "source":[
        "### From the previous summary stats we can conclude that:\n",
        " - The home team has more goals on average than the away team, wich means it's likely that the home team wins.\n",
        " - The maximum scored goals in one match for a home team is 10 goals, and the maximum scored for an away team is 9 goals."
      ],
      "attachments":{
        
      },
      "metadata":{
        
      }
    },
    {
      "cell_type":"markdown",
      "source":[
        "<a id='eda'><\/a>\n",
        "## Exploratory Data Analysis\n",
        "\n",
        "\n",
        "### Research Question: What are the factors affecting a team winning a match?"
      ],
      "attachments":{
        
      },
      "metadata":{
        
      }
    },
    {
      "cell_type":"code",
      "source":[
        "home_team_won = match.home_team_goal > match.away_team_goal\n",
        "away_team_won = match.away_team_goal > match.home_team_goal\n",
        "draw = match.home_team_goal == match.away_team_goal\n",
        "match[home_team_won].info"
      ],
      "execution_count":15,
      "outputs":[
        {
          "data":{
            "text\/plain":[
              "<bound method DataFrame.info of           id  country_id  league_id     season  stage                 date  \\\n",
              "3          4           1          1  2008\/2009      1  2008-08-17 00:00:00   \n",
              "8          9           1          1  2008\/2009      1  2008-08-16 00:00:00   \n",
              "9         10           1          1  2008\/2009     10  2008-11-01 00:00:00   \n",
              "21        22           1          1  2008\/2009     11  2008-11-07 00:00:00   \n",
              "25        26           1          1  2008\/2009     11  2008-11-08 00:00:00   \n",
              "...      ...         ...        ...        ...    ...                  ...   \n",
              "25970  25971       24558      24558  2015\/2016      8  2015-09-12 00:00:00   \n",
              "25973  25974       24558      24558  2015\/2016      8  2015-09-13 00:00:00   \n",
              "25974  25975       24558      24558  2015\/2016      9  2015-09-22 00:00:00   \n",
              "25976  25977       24558      24558  2015\/2016      9  2015-09-23 00:00:00   \n",
              "25978  25979       24558      24558  2015\/2016      9  2015-09-23 00:00:00   \n",
              "\n",
              "       match_api_id  home_team_api_id  away_team_api_id  home_team_goal  \\\n",
              "3            492476              9991              9998               5   \n",
              "8            492481             10001              9986               1   \n",
              "9            492564              8342              8571               4   \n",
              "21           492576              9984             10000               2   \n",
              "25           492580             10001              9987               1   \n",
              "...             ...               ...               ...             ...   \n",
              "25970       1992087             10192              9824               4   \n",
              "25973       1992090             10179              7896               3   \n",
              "25974       1992091             10190             10191               1   \n",
              "25976       1992093              9956             10179               2   \n",
              "25978       1992095             10192              9931               4   \n",
              "\n",
              "       away_team_goal  \n",
              "3                   0  \n",
              "8                   0  \n",
              "9                   1  \n",
              "21                  0  \n",
              "25                  0  \n",
              "...               ...  \n",
              "25970               0  \n",
              "25973               0  \n",
              "25974               0  \n",
              "25976               0  \n",
              "25978               3  \n",
              "\n",
              "[11917 rows x 11 columns]>"
            ]
          },
          "metadata":{
            
          },
          "output_type":"display_data"
        }
      ],
      "metadata":{
        
      }
    },
    {
      "cell_type":"code",
      "source":[
        "match[away_team_won].info"
      ],
      "execution_count":16,
      "outputs":[
        {
          "data":{
            "text\/plain":[
              "<bound method DataFrame.info of           id  country_id  league_id     season  stage                 date  \\\n",
              "2          3           1          1  2008\/2009      1  2008-08-16 00:00:00   \n",
              "4          5           1          1  2008\/2009      1  2008-08-16 00:00:00   \n",
              "7          8           1          1  2008\/2009      1  2008-08-16 00:00:00   \n",
              "10        11           1          1  2008\/2009     10  2008-10-31 00:00:00   \n",
              "11        12           1          1  2008\/2009     10  2008-11-02 00:00:00   \n",
              "...      ...         ...        ...        ...    ...                  ...   \n",
              "25961  25962       24558      24558  2015\/2016      6  2015-08-23 00:00:00   \n",
              "25963  25964       24558      24558  2015\/2016      6  2015-08-22 00:00:00   \n",
              "25964  25965       24558      24558  2015\/2016      7  2015-08-29 00:00:00   \n",
              "25966  25967       24558      24558  2015\/2016      7  2015-08-30 00:00:00   \n",
              "25975  25976       24558      24558  2015\/2016      9  2015-09-23 00:00:00   \n",
              "\n",
              "       match_api_id  home_team_api_id  away_team_api_id  home_team_goal  \\\n",
              "2            492475              9984              8635               0   \n",
              "4            492477              7947              9985               1   \n",
              "7            492480              4049              9996               1   \n",
              "10           492565              9985              9986               1   \n",
              "11           492566             10000              9991               0   \n",
              "...             ...               ...               ...             ...   \n",
              "25961       1992078             10190              9956               0   \n",
              "25963       1992080             10243             10199               2   \n",
              "25964       1992081              7896             10199               0   \n",
              "25966       1992083             10191             10179               0   \n",
              "25975       1992092              9824             10199               1   \n",
              "\n",
              "       away_team_goal  \n",
              "2                   3  \n",
              "4                   3  \n",
              "7                   2  \n",
              "10                  2  \n",
              "11                  2  \n",
              "...               ...  \n",
              "25961               2  \n",
              "25963               5  \n",
              "25964               1  \n",
              "25966               2  \n",
              "25975               2  \n",
              "\n",
              "[7466 rows x 11 columns]>"
            ]
          },
          "metadata":{
            
          },
          "output_type":"display_data"
        }
      ],
      "metadata":{
        
      }
    },
    {
      "cell_type":"code",
      "source":[
        "match[draw].info"
      ],
      "execution_count":17,
      "outputs":[
        {
          "data":{
            "text\/plain":[
              "<bound method DataFrame.info of           id  country_id  league_id     season  stage                 date  \\\n",
              "0          1           1          1  2008\/2009      1  2008-08-17 00:00:00   \n",
              "1          2           1          1  2008\/2009      1  2008-08-16 00:00:00   \n",
              "5          6           1          1  2008\/2009      1  2008-09-24 00:00:00   \n",
              "6          7           1          1  2008\/2009      1  2008-08-16 00:00:00   \n",
              "12        13           1          1  2008\/2009     10  2008-11-01 00:00:00   \n",
              "...      ...         ...        ...        ...    ...                  ...   \n",
              "25952  25953       24558      24558  2015\/2016      4  2015-08-09 00:00:00   \n",
              "25958  25959       24558      24558  2015\/2016      5  2015-08-13 00:00:00   \n",
              "25971  25972       24558      24558  2015\/2016      8  2015-09-13 00:00:00   \n",
              "25972  25973       24558      24558  2015\/2016      8  2015-09-13 00:00:00   \n",
              "25977  25978       24558      24558  2015\/2016      9  2015-09-22 00:00:00   \n",
              "\n",
              "       match_api_id  home_team_api_id  away_team_api_id  home_team_goal  \\\n",
              "0            492473              9987              9993               1   \n",
              "1            492474             10000              9994               0   \n",
              "5            492478              8203              8342               1   \n",
              "6            492479              9999              8571               2   \n",
              "12           492567              9994              9998               0   \n",
              "...             ...               ...               ...             ...   \n",
              "25952       1992069              9824             10179               1   \n",
              "25958       1992075              9824              9956               3   \n",
              "25971       1992088             10199              9956               3   \n",
              "25972       1992089             10243             10191               3   \n",
              "25977       1992094              7896             10243               0   \n",
              "\n",
              "       away_team_goal  \n",
              "0                   1  \n",
              "1                   0  \n",
              "5                   1  \n",
              "6                   2  \n",
              "12                  0  \n",
              "...               ...  \n",
              "25952               1  \n",
              "25958               3  \n",
              "25971               3  \n",
              "25972               3  \n",
              "25977               0  \n",
              "\n",
              "[6596 rows x 11 columns]>"
            ]
          },
          "metadata":{
            
          },
          "output_type":"display_data"
        }
      ],
      "metadata":{
        
      }
    },
    {
      "cell_type":"markdown",
      "source":[
        "### From the previous tables we can conclude that it's likely that a home team will win, so wether you play on your land or on your opponent's it can affect your chances of winning."
      ],
      "attachments":{
        
      },
      "metadata":{
        
      }
    },
    {
      "cell_type":"code",
      "source":[
        "plt.scatter(match[draw]['away_team_goal'], match[draw]['season'])\n",
        "plt.xlabel('Number Of Goals Per Match')\n",
        "plt.ylabel('Season')\n",
        "plt.title('Away Team Goals (Draw Matches) in Seasons')\n",
        "plt.show()"
      ],
      "execution_count":47,
      "outputs":[
        {
          "data":{
            "image\/png":"[encoded data removed]"
          },
          "metadata":{
            "image\/png":{
              
            }
          },
          "output_type":"display_data"
        }
      ],
      "metadata":{
        
      }
    },
    {
      "cell_type":"code",
      "source":[
        "plt.scatter(match[away_team_won]['away_team_goal'], match[away_team_won]['season'])\n",
        "plt.xlabel('Number Of Goals Per Match')\n",
        "plt.ylabel('Season')\n",
        "plt.title('Winning Away Team Goals in Seasons')\n",
        "plt.show()"
      ],
      "execution_count":48,
      "outputs":[
        {
          "data":{
            "image\/png":"[encoded data removed]"
          },
          "metadata":{
            "image\/png":{
              
            }
          },
          "output_type":"display_data"
        }
      ],
      "metadata":{
        
      }
    },
    {
      "cell_type":"code",
      "source":[
        "plt.scatter(match[home_team_won]['home_team_goal'], match[home_team_won]['season'])\n",
        "plt.xlabel('Number Of Goals Per Match')\n",
        "plt.ylabel('Season')\n",
        "plt.title('Winning Home Team Goals in Seasons')\n",
        "plt.show()"
      ],
      "execution_count":49,
      "outputs":[
        {
          "data":{
            "image\/png":"[encoded data removed]"
          },
          "metadata":{
            "image\/png":{
              
            }
          },
          "output_type":"display_data"
        }
      ],
      "metadata":{
        
      }
    },
    {
      "cell_type":"markdown",
      "source":[
        "### From the previous graphs we can cinclude that:\n",
        "- As the number of goals increase it becomes more rare to happen\n",
        "- Home teams are more likely to score more goals\n",
        "- The seasons have goals ranging nearly from 1-10, wich means they were overall entertaining :)"
      ],
      "attachments":{
        
      },
      "metadata":{
        
      }
    },
    {
      "cell_type":"code",
      "source":[
        "team_match = [team[['team_short_name','team_long_name','team_api_id']], match[home_team_won]]\n",
        "\n",
        "home_team_won_name = pd.concat(team_match, axis = 1, join = 'inner', sort = True)\n",
        "home_team_won_name"
      ],
      "execution_count":20,
      "outputs":[
        {
          "data":{
            "text\/html":[
              "<div>\n",
              "<style scoped>\n",
              "    .dataframe tbody tr th:only-of-type {\n",
              "        vertical-align: middle;\n",
              "    }\n",
              "\n",
              "    .dataframe tbody tr th {\n",
              "        vertical-align: top;\n",
              "    }\n",
              "\n",
              "    .dataframe thead th {\n",
              "        text-align: right;\n",
              "    }\n",
              "<\/style>\n",
              "<table border=\"1\" class=\"dataframe\">\n",
              "  <thead>\n",
              "    <tr style=\"text-align: right;\">\n",
              "      <th><\/th>\n",
              "      <th>team_short_name<\/th>\n",
              "      <th>team_long_name<\/th>\n",
              "      <th>team_api_id<\/th>\n",
              "      <th>id<\/th>\n",
              "      <th>country_id<\/th>\n",
              "      <th>league_id<\/th>\n",
              "      <th>season<\/th>\n",
              "      <th>stage<\/th>\n",
              "      <th>date<\/th>\n",
              "      <th>match_api_id<\/th>\n",
              "      <th>home_team_api_id<\/th>\n",
              "      <th>away_team_api_id<\/th>\n",
              "      <th>home_team_goal<\/th>\n",
              "      <th>away_team_goal<\/th>\n",
              "    <\/tr>\n",
              "  <\/thead>\n",
              "  <tbody>\n",
              "    <tr>\n",
              "      <th>3<\/th>\n",
              "      <td>LOK<\/td>\n",
              "      <td>Sporting Lokeren<\/td>\n",
              "      <td>9994<\/td>\n",
              "      <td>4<\/td>\n",
              "      <td>1<\/td>\n",
              "      <td>1<\/td>\n",
              "      <td>2008\/2009<\/td>\n",
              "      <td>1<\/td>\n",
              "      <td>2008-08-17 00:00:00<\/td>\n",
              "      <td>492476<\/td>\n",
              "      <td>9991<\/td>\n",
              "      <td>9998<\/td>\n",
              "      <td>5<\/td>\n",
              "      <td>0<\/td>\n",
              "    <\/tr>\n",
              "    <tr>\n",
              "      <th>8<\/th>\n",
              "      <td>DEN<\/td>\n",
              "      <td>FCV Dender EH<\/td>\n",
              "      <td>7947<\/td>\n",
              "      <td>9<\/td>\n",
              "      <td>1<\/td>\n",
              "      <td>1<\/td>\n",
              "      <td>2008\/2009<\/td>\n",
              "      <td>1<\/td>\n",
              "      <td>2008-08-16 00:00:00<\/td>\n",
              "      <td>492481<\/td>\n",
              "      <td>10001<\/td>\n",
              "      <td>9986<\/td>\n",
              "      <td>1<\/td>\n",
              "      <td>0<\/td>\n",
              "    <\/tr>\n",
              "    <tr>\n",
              "      <th>9<\/th>\n",
              "      <td>STL<\/td>\n",
              "      <td>Standard de Liège<\/td>\n",
              "      <td>9985<\/td>\n",
              "      <td>10<\/td>\n",
              "      <td>1<\/td>\n",
              "      <td>1<\/td>\n",
              "      <td>2008\/2009<\/td>\n",
              "      <td>10<\/td>\n",
              "      <td>2008-11-01 00:00:00<\/td>\n",
              "      <td>492564<\/td>\n",
              "      <td>8342<\/td>\n",
              "      <td>8571<\/td>\n",
              "      <td>4<\/td>\n",
              "      <td>1<\/td>\n",
              "    <\/tr>\n",
              "    <tr>\n",
              "      <th>21<\/th>\n",
              "      <td>O-H<\/td>\n",
              "      <td>Oud-Heverlee Leuven<\/td>\n",
              "      <td>1773<\/td>\n",
              "      <td>22<\/td>\n",
              "      <td>1<\/td>\n",
              "      <td>1<\/td>\n",
              "      <td>2008\/2009<\/td>\n",
              "      <td>11<\/td>\n",
              "      <td>2008-11-07 00:00:00<\/td>\n",
              "      <td>492576<\/td>\n",
              "      <td>9984<\/td>\n",
              "      <td>10000<\/td>\n",
              "      <td>2<\/td>\n",
              "      <td>0<\/td>\n",
              "    <\/tr>\n",
              "    <tr>\n",
              "      <th>25<\/th>\n",
              "      <td>MUN<\/td>\n",
              "      <td>Manchester United<\/td>\n",
              "      <td>10260<\/td>\n",
              "      <td>26<\/td>\n",
              "      <td>1<\/td>\n",
              "      <td>1<\/td>\n",
              "      <td>2008\/2009<\/td>\n",
              "      <td>11<\/td>\n",
              "      <td>2008-11-08 00:00:00<\/td>\n",
              "      <td>492580<\/td>\n",
              "      <td>10001<\/td>\n",
              "      <td>9987<\/td>\n",
              "      <td>1<\/td>\n",
              "      <td>0<\/td>\n",
              "    <\/tr>\n",
              "    <tr>\n",
              "      <th>...<\/th>\n",
              "      <td>...<\/td>\n",
              "      <td>...<\/td>\n",
              "      <td>...<\/td>\n",
              "      <td>...<\/td>\n",
              "      <td>...<\/td>\n",
              "      <td>...<\/td>\n",
              "      <td>...<\/td>\n",
              "      <td>...<\/td>\n",
              "      <td>...<\/td>\n",
              "      <td>...<\/td>\n",
              "      <td>...<\/td>\n",
              "      <td>...<\/td>\n",
              "      <td>...<\/td>\n",
              "      <td>...<\/td>\n",
              "    <\/tr>\n",
              "    <tr>\n",
              "      <th>289<\/th>\n",
              "      <td>SIO<\/td>\n",
              "      <td>FC Sion<\/td>\n",
              "      <td>10179<\/td>\n",
              "      <td>290<\/td>\n",
              "      <td>1<\/td>\n",
              "      <td>1<\/td>\n",
              "      <td>2008\/2009<\/td>\n",
              "      <td>8<\/td>\n",
              "      <td>2008-10-18 00:00:00<\/td>\n",
              "      <td>492546<\/td>\n",
              "      <td>9985<\/td>\n",
              "      <td>9998<\/td>\n",
              "      <td>2<\/td>\n",
              "      <td>1<\/td>\n",
              "    <\/tr>\n",
              "    <tr>\n",
              "      <th>290<\/th>\n",
              "      <td>LUZ<\/td>\n",
              "      <td>FC Luzern<\/td>\n",
              "      <td>10199<\/td>\n",
              "      <td>291<\/td>\n",
              "      <td>1<\/td>\n",
              "      <td>1<\/td>\n",
              "      <td>2008\/2009<\/td>\n",
              "      <td>8<\/td>\n",
              "      <td>2008-10-19 00:00:00<\/td>\n",
              "      <td>492547<\/td>\n",
              "      <td>10000<\/td>\n",
              "      <td>8635<\/td>\n",
              "      <td>4<\/td>\n",
              "      <td>0<\/td>\n",
              "    <\/tr>\n",
              "    <tr>\n",
              "      <th>291<\/th>\n",
              "      <td>VAD<\/td>\n",
              "      <td>FC Vaduz<\/td>\n",
              "      <td>9824<\/td>\n",
              "      <td>292<\/td>\n",
              "      <td>1<\/td>\n",
              "      <td>1<\/td>\n",
              "      <td>2008\/2009<\/td>\n",
              "      <td>8<\/td>\n",
              "      <td>2008-10-18 00:00:00<\/td>\n",
              "      <td>492548<\/td>\n",
              "      <td>9994<\/td>\n",
              "      <td>8571<\/td>\n",
              "      <td>2<\/td>\n",
              "      <td>0<\/td>\n",
              "    <\/tr>\n",
              "    <tr>\n",
              "      <th>294<\/th>\n",
              "      <td>GAL<\/td>\n",
              "      <td>FC St. Gallen<\/td>\n",
              "      <td>10190<\/td>\n",
              "      <td>295<\/td>\n",
              "      <td>1<\/td>\n",
              "      <td>1<\/td>\n",
              "      <td>2008\/2009<\/td>\n",
              "      <td>8<\/td>\n",
              "      <td>2008-10-18 00:00:00<\/td>\n",
              "      <td>492551<\/td>\n",
              "      <td>9996<\/td>\n",
              "      <td>9999<\/td>\n",
              "      <td>2<\/td>\n",
              "      <td>0<\/td>\n",
              "    <\/tr>\n",
              "    <tr>\n",
              "      <th>297<\/th>\n",
              "      <td>LAU<\/td>\n",
              "      <td>FC Lausanne-Sports<\/td>\n",
              "      <td>7730<\/td>\n",
              "      <td>298<\/td>\n",
              "      <td>1<\/td>\n",
              "      <td>1<\/td>\n",
              "      <td>2008\/2009<\/td>\n",
              "      <td>9<\/td>\n",
              "      <td>2008-10-25 00:00:00<\/td>\n",
              "      <td>492554<\/td>\n",
              "      <td>8635<\/td>\n",
              "      <td>8203<\/td>\n",
              "      <td>7<\/td>\n",
              "      <td>1<\/td>\n",
              "    <\/tr>\n",
              "  <\/tbody>\n",
              "<\/table>\n",
              "<p>147 rows × 14 columns<\/p>\n",
              "<\/div>"
            ]
          },
          "metadata":{
            
          },
          "output_type":"display_data"
        }
      ],
      "metadata":{
        
      }
    },
    {
      "cell_type":"markdown",
      "source":[
        "### Next step i'll investigate random teams from home winning teams to see the factors that may have affected their chances of winning.\n",
        "The teams i'll investigate are: \n",
        "Roma (ROM), Chelsea (CHE), Valencia CF (VAL), and Napoli (NAP)"
      ],
      "attachments":{
        
      },
      "metadata":{
        
      }
    },
    {
      "cell_type":"code",
      "source":[
        "NAP = team['team_short_name'] == 'NAP'\n",
        "NAP_att = [team[NAP], team_att]\n",
        "NAP_att = pd.concat(NAP_att, axis = 1, join = 'inner')\n",
        "NAP_att"
      ],
      "execution_count":27,
      "outputs":[
        {
          "data":{
            "text\/html":[
              "<div>\n",
              "<style scoped>\n",
              "    .dataframe tbody tr th:only-of-type {\n",
              "        vertical-align: middle;\n",
              "    }\n",
              "\n",
              "    .dataframe tbody tr th {\n",
              "        vertical-align: top;\n",
              "    }\n",
              "\n",
              "    .dataframe thead th {\n",
              "        text-align: right;\n",
              "    }\n",
              "<\/style>\n",
              "<table border=\"1\" class=\"dataframe\">\n",
              "  <thead>\n",
              "    <tr style=\"text-align: right;\">\n",
              "      <th><\/th>\n",
              "      <th>id<\/th>\n",
              "      <th>team_api_id<\/th>\n",
              "      <th>team_fifa_api_id<\/th>\n",
              "      <th>team_long_name<\/th>\n",
              "      <th>team_short_name<\/th>\n",
              "      <th>id<\/th>\n",
              "      <th>team_fifa_api_id<\/th>\n",
              "      <th>team_api_id<\/th>\n",
              "      <th>date<\/th>\n",
              "      <th>buildUpPlaySpeed<\/th>\n",
              "      <th>...<\/th>\n",
              "      <th>chanceCreationShooting<\/th>\n",
              "      <th>chanceCreationShootingClass<\/th>\n",
              "      <th>chanceCreationPositioningClass<\/th>\n",
              "      <th>defencePressure<\/th>\n",
              "      <th>defencePressureClass<\/th>\n",
              "      <th>defenceAggression<\/th>\n",
              "      <th>defenceAggressionClass<\/th>\n",
              "      <th>defenceTeamWidth<\/th>\n",
              "      <th>defenceTeamWidthClass<\/th>\n",
              "      <th>defenceDefenderLineClass<\/th>\n",
              "    <\/tr>\n",
              "  <\/thead>\n",
              "  <tbody>\n",
              "    <tr>\n",
              "      <th>137<\/th>\n",
              "      <td>20526<\/td>\n",
              "      <td>9875<\/td>\n",
              "      <td>48.0<\/td>\n",
              "      <td>Napoli<\/td>\n",
              "      <td>NAP<\/td>\n",
              "      <td>138<\/td>\n",
              "      <td>32<\/td>\n",
              "      <td>8178<\/td>\n",
              "      <td>2011-02-22 00:00:00<\/td>\n",
              "      <td>67<\/td>\n",
              "      <td>...<\/td>\n",
              "      <td>55<\/td>\n",
              "      <td>Normal<\/td>\n",
              "      <td>Organised<\/td>\n",
              "      <td>57<\/td>\n",
              "      <td>Medium<\/td>\n",
              "      <td>39<\/td>\n",
              "      <td>Press<\/td>\n",
              "      <td>51<\/td>\n",
              "      <td>Normal<\/td>\n",
              "      <td>Cover<\/td>\n",
              "    <\/tr>\n",
              "  <\/tbody>\n",
              "<\/table>\n",
              "<p>1 rows × 30 columns<\/p>\n",
              "<\/div>"
            ]
          },
          "metadata":{
            
          },
          "output_type":"display_data"
        }
      ],
      "metadata":{
        
      }
    },
    {
      "cell_type":"code",
      "source":[
        "CHE = team['team_short_name'] == 'CHE'\n",
        "CHE_att = [team[CHE], team_att]\n",
        "CHE_att = pd.concat(CHE_att, axis = 1, join = 'inner')\n",
        "CHE_att"
      ],
      "execution_count":28,
      "outputs":[
        {
          "data":{
            "text\/html":[
              "<div>\n",
              "<style scoped>\n",
              "    .dataframe tbody tr th:only-of-type {\n",
              "        vertical-align: middle;\n",
              "    }\n",
              "\n",
              "    .dataframe tbody tr th {\n",
              "        vertical-align: top;\n",
              "    }\n",
              "\n",
              "    .dataframe thead th {\n",
              "        text-align: right;\n",
              "    }\n",
              "<\/style>\n",
              "<table border=\"1\" class=\"dataframe\">\n",
              "  <thead>\n",
              "    <tr style=\"text-align: right;\">\n",
              "      <th><\/th>\n",
              "      <th>id<\/th>\n",
              "      <th>team_api_id<\/th>\n",
              "      <th>team_fifa_api_id<\/th>\n",
              "      <th>team_long_name<\/th>\n",
              "      <th>team_short_name<\/th>\n",
              "      <th>id<\/th>\n",
              "      <th>team_fifa_api_id<\/th>\n",
              "      <th>team_api_id<\/th>\n",
              "      <th>date<\/th>\n",
              "      <th>buildUpPlaySpeed<\/th>\n",
              "      <th>...<\/th>\n",
              "      <th>chanceCreationShooting<\/th>\n",
              "      <th>chanceCreationShootingClass<\/th>\n",
              "      <th>chanceCreationPositioningClass<\/th>\n",
              "      <th>defencePressure<\/th>\n",
              "      <th>defencePressureClass<\/th>\n",
              "      <th>defenceAggression<\/th>\n",
              "      <th>defenceAggressionClass<\/th>\n",
              "      <th>defenceTeamWidth<\/th>\n",
              "      <th>defenceTeamWidthClass<\/th>\n",
              "      <th>defenceDefenderLineClass<\/th>\n",
              "    <\/tr>\n",
              "  <\/thead>\n",
              "  <tbody>\n",
              "    <tr>\n",
              "      <th>43<\/th>\n",
              "      <td>3475<\/td>\n",
              "      <td>8455<\/td>\n",
              "      <td>5.0<\/td>\n",
              "      <td>Chelsea<\/td>\n",
              "      <td>CHE<\/td>\n",
              "      <td>44<\/td>\n",
              "      <td>1861<\/td>\n",
              "      <td>9865<\/td>\n",
              "      <td>2014-09-19 00:00:00<\/td>\n",
              "      <td>46<\/td>\n",
              "      <td>...<\/td>\n",
              "      <td>40<\/td>\n",
              "      <td>Normal<\/td>\n",
              "      <td>Organised<\/td>\n",
              "      <td>37<\/td>\n",
              "      <td>Medium<\/td>\n",
              "      <td>53<\/td>\n",
              "      <td>Press<\/td>\n",
              "      <td>45<\/td>\n",
              "      <td>Normal<\/td>\n",
              "      <td>Cover<\/td>\n",
              "    <\/tr>\n",
              "  <\/tbody>\n",
              "<\/table>\n",
              "<p>1 rows × 30 columns<\/p>\n",
              "<\/div>"
            ]
          },
          "metadata":{
            
          },
          "output_type":"display_data"
        }
      ],
      "metadata":{
        
      }
    },
    {
      "cell_type":"code",
      "source":[
        "ROM = team['team_short_name'] == 'ROM'\n",
        "ROM_att = [team[ROM], team_att]\n",
        "ROM_att = pd.concat(ROM_att, axis = 1, join = 'inner')\n",
        "ROM_att"
      ],
      "execution_count":29,
      "outputs":[
        {
          "data":{
            "text\/html":[
              "<div>\n",
              "<style scoped>\n",
              "    .dataframe tbody tr th:only-of-type {\n",
              "        vertical-align: middle;\n",
              "    }\n",
              "\n",
              "    .dataframe tbody tr th {\n",
              "        vertical-align: top;\n",
              "    }\n",
              "\n",
              "    .dataframe thead th {\n",
              "        text-align: right;\n",
              "    }\n",
              "<\/style>\n",
              "<table border=\"1\" class=\"dataframe\">\n",
              "  <thead>\n",
              "    <tr style=\"text-align: right;\">\n",
              "      <th><\/th>\n",
              "      <th>id<\/th>\n",
              "      <th>team_api_id<\/th>\n",
              "      <th>team_fifa_api_id<\/th>\n",
              "      <th>team_long_name<\/th>\n",
              "      <th>team_short_name<\/th>\n",
              "      <th>id<\/th>\n",
              "      <th>team_fifa_api_id<\/th>\n",
              "      <th>team_api_id<\/th>\n",
              "      <th>date<\/th>\n",
              "      <th>buildUpPlaySpeed<\/th>\n",
              "      <th>...<\/th>\n",
              "      <th>chanceCreationShooting<\/th>\n",
              "      <th>chanceCreationShootingClass<\/th>\n",
              "      <th>chanceCreationPositioningClass<\/th>\n",
              "      <th>defencePressure<\/th>\n",
              "      <th>defencePressureClass<\/th>\n",
              "      <th>defenceAggression<\/th>\n",
              "      <th>defenceAggressionClass<\/th>\n",
              "      <th>defenceTeamWidth<\/th>\n",
              "      <th>defenceTeamWidthClass<\/th>\n",
              "      <th>defenceDefenderLineClass<\/th>\n",
              "    <\/tr>\n",
              "  <\/thead>\n",
              "  <tbody>\n",
              "    <tr>\n",
              "      <th>136<\/th>\n",
              "      <td>20525<\/td>\n",
              "      <td>8686<\/td>\n",
              "      <td>52.0<\/td>\n",
              "      <td>Roma<\/td>\n",
              "      <td>ROM<\/td>\n",
              "      <td>137<\/td>\n",
              "      <td>32<\/td>\n",
              "      <td>8178<\/td>\n",
              "      <td>2010-02-22 00:00:00<\/td>\n",
              "      <td>70<\/td>\n",
              "      <td>...<\/td>\n",
              "      <td>70<\/td>\n",
              "      <td>Lots<\/td>\n",
              "      <td>Organised<\/td>\n",
              "      <td>70<\/td>\n",
              "      <td>High<\/td>\n",
              "      <td>60<\/td>\n",
              "      <td>Press<\/td>\n",
              "      <td>70<\/td>\n",
              "      <td>Wide<\/td>\n",
              "      <td>Cover<\/td>\n",
              "    <\/tr>\n",
              "  <\/tbody>\n",
              "<\/table>\n",
              "<p>1 rows × 30 columns<\/p>\n",
              "<\/div>"
            ]
          },
          "metadata":{
            
          },
          "output_type":"display_data"
        }
      ],
      "metadata":{
        
      }
    },
    {
      "cell_type":"code",
      "source":[
        "VAL = team['team_short_name'] == 'VAL'\n",
        "VAL_att = [team[VAL], team_att]\n",
        "VAL_att = pd.concat(VAL_att, axis = 1, join = 'inner')\n",
        "VAL_att"
      ],
      "execution_count":30,
      "outputs":[
        {
          "data":{
            "text\/html":[
              "<div>\n",
              "<style scoped>\n",
              "    .dataframe tbody tr th:only-of-type {\n",
              "        vertical-align: middle;\n",
              "    }\n",
              "\n",
              "    .dataframe tbody tr th {\n",
              "        vertical-align: top;\n",
              "    }\n",
              "\n",
              "    .dataframe thead th {\n",
              "        text-align: right;\n",
              "    }\n",
              "<\/style>\n",
              "<table border=\"1\" class=\"dataframe\">\n",
              "  <thead>\n",
              "    <tr style=\"text-align: right;\">\n",
              "      <th><\/th>\n",
              "      <th>id<\/th>\n",
              "      <th>team_api_id<\/th>\n",
              "      <th>team_fifa_api_id<\/th>\n",
              "      <th>team_long_name<\/th>\n",
              "      <th>team_short_name<\/th>\n",
              "      <th>id<\/th>\n",
              "      <th>team_fifa_api_id<\/th>\n",
              "      <th>team_api_id<\/th>\n",
              "      <th>date<\/th>\n",
              "      <th>buildUpPlaySpeed<\/th>\n",
              "      <th>...<\/th>\n",
              "      <th>chanceCreationShooting<\/th>\n",
              "      <th>chanceCreationShootingClass<\/th>\n",
              "      <th>chanceCreationPositioningClass<\/th>\n",
              "      <th>defencePressure<\/th>\n",
              "      <th>defencePressureClass<\/th>\n",
              "      <th>defenceAggression<\/th>\n",
              "      <th>defenceAggressionClass<\/th>\n",
              "      <th>defenceTeamWidth<\/th>\n",
              "      <th>defenceTeamWidthClass<\/th>\n",
              "      <th>defenceDefenderLineClass<\/th>\n",
              "    <\/tr>\n",
              "  <\/thead>\n",
              "  <tbody>\n",
              "    <tr>\n",
              "      <th>77<\/th>\n",
              "      <td>9555<\/td>\n",
              "      <td>9873<\/td>\n",
              "      <td>110456.0<\/td>\n",
              "      <td>Valenciennes FC<\/td>\n",
              "      <td>VAL<\/td>\n",
              "      <td>78<\/td>\n",
              "      <td>2<\/td>\n",
              "      <td>10252<\/td>\n",
              "      <td>2011-02-22 00:00:00<\/td>\n",
              "      <td>65<\/td>\n",
              "      <td>...<\/td>\n",
              "      <td>50<\/td>\n",
              "      <td>Normal<\/td>\n",
              "      <td>Organised<\/td>\n",
              "      <td>35<\/td>\n",
              "      <td>Medium<\/td>\n",
              "      <td>45<\/td>\n",
              "      <td>Press<\/td>\n",
              "      <td>65<\/td>\n",
              "      <td>Normal<\/td>\n",
              "      <td>Cover<\/td>\n",
              "    <\/tr>\n",
              "    <tr>\n",
              "      <th>251<\/th>\n",
              "      <td>43035<\/td>\n",
              "      <td>10267<\/td>\n",
              "      <td>461.0<\/td>\n",
              "      <td>Valencia CF<\/td>\n",
              "      <td>VAL<\/td>\n",
              "      <td>252<\/td>\n",
              "      <td>1796<\/td>\n",
              "      <td>8191<\/td>\n",
              "      <td>2013-09-20 00:00:00<\/td>\n",
              "      <td>54<\/td>\n",
              "      <td>...<\/td>\n",
              "      <td>48<\/td>\n",
              "      <td>Normal<\/td>\n",
              "      <td>Organised<\/td>\n",
              "      <td>48<\/td>\n",
              "      <td>Medium<\/td>\n",
              "      <td>50<\/td>\n",
              "      <td>Press<\/td>\n",
              "      <td>58<\/td>\n",
              "      <td>Normal<\/td>\n",
              "      <td>Cover<\/td>\n",
              "    <\/tr>\n",
              "    <tr>\n",
              "      <th>266<\/th>\n",
              "      <td>43050<\/td>\n",
              "      <td>10281<\/td>\n",
              "      <td>462.0<\/td>\n",
              "      <td>Real Valladolid<\/td>\n",
              "      <td>VAL<\/td>\n",
              "      <td>267<\/td>\n",
              "      <td>647<\/td>\n",
              "      <td>7788<\/td>\n",
              "      <td>2014-09-19 00:00:00<\/td>\n",
              "      <td>45<\/td>\n",
              "      <td>...<\/td>\n",
              "      <td>57<\/td>\n",
              "      <td>Normal<\/td>\n",
              "      <td>Organised<\/td>\n",
              "      <td>42<\/td>\n",
              "      <td>Medium<\/td>\n",
              "      <td>49<\/td>\n",
              "      <td>Press<\/td>\n",
              "      <td>47<\/td>\n",
              "      <td>Normal<\/td>\n",
              "      <td>Cover<\/td>\n",
              "    <\/tr>\n",
              "  <\/tbody>\n",
              "<\/table>\n",
              "<p>3 rows × 30 columns<\/p>\n",
              "<\/div>"
            ]
          },
          "metadata":{
            
          },
          "output_type":"display_data"
        }
      ],
      "metadata":{
        
      }
    },
    {
      "cell_type":"markdown",
      "source":[
        "### We can make a custom function that just gets the team_short_name and return it's attributes"
      ],
      "attachments":{
        
      },
      "metadata":{
        
      }
    },
    {
      "cell_type":"code",
      "source":[
        "# noinspection PyGlobalUndefined\n",
        "def get_team_att(name = 'team_short_name'):\n",
        "    global name_att\n",
        "    #if name in team['team_short_name']:\n",
        "    name_att = [team[name], team_att]\n",
        "    name_att = pd.concat(name_att, axis = 1, join = 'inner')\n",
        "    return name_att\n",
        "    #else:\n",
        "        #return 'Error: Team not Found'\n",
        "\n",
        "get_team_att(ROM)"
      ],
      "execution_count":31,
      "outputs":[
        {
          "data":{
            "text\/html":[
              "<div>\n",
              "<style scoped>\n",
              "    .dataframe tbody tr th:only-of-type {\n",
              "        vertical-align: middle;\n",
              "    }\n",
              "\n",
              "    .dataframe tbody tr th {\n",
              "        vertical-align: top;\n",
              "    }\n",
              "\n",
              "    .dataframe thead th {\n",
              "        text-align: right;\n",
              "    }\n",
              "<\/style>\n",
              "<table border=\"1\" class=\"dataframe\">\n",
              "  <thead>\n",
              "    <tr style=\"text-align: right;\">\n",
              "      <th><\/th>\n",
              "      <th>id<\/th>\n",
              "      <th>team_api_id<\/th>\n",
              "      <th>team_fifa_api_id<\/th>\n",
              "      <th>team_long_name<\/th>\n",
              "      <th>team_short_name<\/th>\n",
              "      <th>id<\/th>\n",
              "      <th>team_fifa_api_id<\/th>\n",
              "      <th>team_api_id<\/th>\n",
              "      <th>date<\/th>\n",
              "      <th>buildUpPlaySpeed<\/th>\n",
              "      <th>...<\/th>\n",
              "      <th>chanceCreationShooting<\/th>\n",
              "      <th>chanceCreationShootingClass<\/th>\n",
              "      <th>chanceCreationPositioningClass<\/th>\n",
              "      <th>defencePressure<\/th>\n",
              "      <th>defencePressureClass<\/th>\n",
              "      <th>defenceAggression<\/th>\n",
              "      <th>defenceAggressionClass<\/th>\n",
              "      <th>defenceTeamWidth<\/th>\n",
              "      <th>defenceTeamWidthClass<\/th>\n",
              "      <th>defenceDefenderLineClass<\/th>\n",
              "    <\/tr>\n",
              "  <\/thead>\n",
              "  <tbody>\n",
              "    <tr>\n",
              "      <th>136<\/th>\n",
              "      <td>20525<\/td>\n",
              "      <td>8686<\/td>\n",
              "      <td>52.0<\/td>\n",
              "      <td>Roma<\/td>\n",
              "      <td>ROM<\/td>\n",
              "      <td>137<\/td>\n",
              "      <td>32<\/td>\n",
              "      <td>8178<\/td>\n",
              "      <td>2010-02-22 00:00:00<\/td>\n",
              "      <td>70<\/td>\n",
              "      <td>...<\/td>\n",
              "      <td>70<\/td>\n",
              "      <td>Lots<\/td>\n",
              "      <td>Organised<\/td>\n",
              "      <td>70<\/td>\n",
              "      <td>High<\/td>\n",
              "      <td>60<\/td>\n",
              "      <td>Press<\/td>\n",
              "      <td>70<\/td>\n",
              "      <td>Wide<\/td>\n",
              "      <td>Cover<\/td>\n",
              "    <\/tr>\n",
              "  <\/tbody>\n",
              "<\/table>\n",
              "<p>1 rows × 30 columns<\/p>\n",
              "<\/div>"
            ]
          },
          "metadata":{
            
          },
          "output_type":"display_data"
        }
      ],
      "metadata":{
        
      }
    },
    {
      "cell_type":"code",
      "source":[
        "get_team_att(VAL)"
      ],
      "execution_count":32,
      "outputs":[
        {
          "data":{
            "text\/html":[
              "<div>\n",
              "<style scoped>\n",
              "    .dataframe tbody tr th:only-of-type {\n",
              "        vertical-align: middle;\n",
              "    }\n",
              "\n",
              "    .dataframe tbody tr th {\n",
              "        vertical-align: top;\n",
              "    }\n",
              "\n",
              "    .dataframe thead th {\n",
              "        text-align: right;\n",
              "    }\n",
              "<\/style>\n",
              "<table border=\"1\" class=\"dataframe\">\n",
              "  <thead>\n",
              "    <tr style=\"text-align: right;\">\n",
              "      <th><\/th>\n",
              "      <th>id<\/th>\n",
              "      <th>team_api_id<\/th>\n",
              "      <th>team_fifa_api_id<\/th>\n",
              "      <th>team_long_name<\/th>\n",
              "      <th>team_short_name<\/th>\n",
              "      <th>id<\/th>\n",
              "      <th>team_fifa_api_id<\/th>\n",
              "      <th>team_api_id<\/th>\n",
              "      <th>date<\/th>\n",
              "      <th>buildUpPlaySpeed<\/th>\n",
              "      <th>...<\/th>\n",
              "      <th>chanceCreationShooting<\/th>\n",
              "      <th>chanceCreationShootingClass<\/th>\n",
              "      <th>chanceCreationPositioningClass<\/th>\n",
              "      <th>defencePressure<\/th>\n",
              "      <th>defencePressureClass<\/th>\n",
              "      <th>defenceAggression<\/th>\n",
              "      <th>defenceAggressionClass<\/th>\n",
              "      <th>defenceTeamWidth<\/th>\n",
              "      <th>defenceTeamWidthClass<\/th>\n",
              "      <th>defenceDefenderLineClass<\/th>\n",
              "    <\/tr>\n",
              "  <\/thead>\n",
              "  <tbody>\n",
              "    <tr>\n",
              "      <th>77<\/th>\n",
              "      <td>9555<\/td>\n",
              "      <td>9873<\/td>\n",
              "      <td>110456.0<\/td>\n",
              "      <td>Valenciennes FC<\/td>\n",
              "      <td>VAL<\/td>\n",
              "      <td>78<\/td>\n",
              "      <td>2<\/td>\n",
              "      <td>10252<\/td>\n",
              "      <td>2011-02-22 00:00:00<\/td>\n",
              "      <td>65<\/td>\n",
              "      <td>...<\/td>\n",
              "      <td>50<\/td>\n",
              "      <td>Normal<\/td>\n",
              "      <td>Organised<\/td>\n",
              "      <td>35<\/td>\n",
              "      <td>Medium<\/td>\n",
              "      <td>45<\/td>\n",
              "      <td>Press<\/td>\n",
              "      <td>65<\/td>\n",
              "      <td>Normal<\/td>\n",
              "      <td>Cover<\/td>\n",
              "    <\/tr>\n",
              "    <tr>\n",
              "      <th>251<\/th>\n",
              "      <td>43035<\/td>\n",
              "      <td>10267<\/td>\n",
              "      <td>461.0<\/td>\n",
              "      <td>Valencia CF<\/td>\n",
              "      <td>VAL<\/td>\n",
              "      <td>252<\/td>\n",
              "      <td>1796<\/td>\n",
              "      <td>8191<\/td>\n",
              "      <td>2013-09-20 00:00:00<\/td>\n",
              "      <td>54<\/td>\n",
              "      <td>...<\/td>\n",
              "      <td>48<\/td>\n",
              "      <td>Normal<\/td>\n",
              "      <td>Organised<\/td>\n",
              "      <td>48<\/td>\n",
              "      <td>Medium<\/td>\n",
              "      <td>50<\/td>\n",
              "      <td>Press<\/td>\n",
              "      <td>58<\/td>\n",
              "      <td>Normal<\/td>\n",
              "      <td>Cover<\/td>\n",
              "    <\/tr>\n",
              "    <tr>\n",
              "      <th>266<\/th>\n",
              "      <td>43050<\/td>\n",
              "      <td>10281<\/td>\n",
              "      <td>462.0<\/td>\n",
              "      <td>Real Valladolid<\/td>\n",
              "      <td>VAL<\/td>\n",
              "      <td>267<\/td>\n",
              "      <td>647<\/td>\n",
              "      <td>7788<\/td>\n",
              "      <td>2014-09-19 00:00:00<\/td>\n",
              "      <td>45<\/td>\n",
              "      <td>...<\/td>\n",
              "      <td>57<\/td>\n",
              "      <td>Normal<\/td>\n",
              "      <td>Organised<\/td>\n",
              "      <td>42<\/td>\n",
              "      <td>Medium<\/td>\n",
              "      <td>49<\/td>\n",
              "      <td>Press<\/td>\n",
              "      <td>47<\/td>\n",
              "      <td>Normal<\/td>\n",
              "      <td>Cover<\/td>\n",
              "    <\/tr>\n",
              "  <\/tbody>\n",
              "<\/table>\n",
              "<p>3 rows × 30 columns<\/p>\n",
              "<\/div>"
            ]
          },
          "metadata":{
            
          },
          "output_type":"display_data"
        }
      ],
      "metadata":{
        
      }
    },
    {
      "cell_type":"code",
      "source":[
        "team_att_name = [team_att, team]\n",
        "team_att_name = pd.concat(team_att_name, axis = 1, join = 'inner')\n",
        "plt.plot(team_att_name['team_short_name'].head(10), team_att_name['chanceCreationPassing'].head(10), team_att_name['chanceCreationShooting'].head(10))\n",
        "plt.xlabel('Teams Short Name')\n",
        "plt.ylabel('Chance Creation')\n",
        "plt.title('Teams Chance Creation Parameters')\n",
        "plt.show()"
      ],
      "execution_count":44,
      "outputs":[
        {
          "data":{
            "image\/png":"[encoded data removed]"
          },
          "metadata":{
            "image\/png":{
              
            }
          },
          "output_type":"display_data"
        }
      ],
      "metadata":{
        
      }
    },
    {
      "cell_type":"code",
      "source":[
        "home_team_won_name['team_short_name'].head(10)"
      ],
      "execution_count":42,
      "outputs":[
        {
          "data":{
            "text\/plain":[
              "3     LOK\n",
              "8     DEN\n",
              "9     STL\n",
              "21    O-H\n",
              "25    MUN\n",
              "31    WHU\n",
              "33    AVL\n",
              "34    MCI\n",
              "35    EVE\n",
              "36    BLB\n",
              "Name: team_short_name, dtype: object"
            ]
          },
          "metadata":{
            
          },
          "output_type":"display_data"
        }
      ],
      "metadata":{
        
      }
    },
    {
      "cell_type":"markdown",
      "source":[
        "### From the previous sample we can conclude some points:\n",
        "- Chance creation in winning teams is 50 on average in all parameters.\n",
        "- Their build-up play positioning class is mostly organised.\n",
        "  "
      ],
      "attachments":{
        
      },
      "metadata":{
        
      }
    },
    {
      "cell_type":"markdown",
      "source":[
        "<a id='conclusions'><\/a>\n",
        "## Conclusions\n",
        "\n",
        "- Playing on your grounds can up your chances of winning.\n",
        "- Chance creation (considering all parameters) in a match must be over 50 to get a greater chance in winning.\n",
        "## Limitations\n",
        "- The dataset has nearly all matches information regarding a league and a season. However, it doesn't have the team winning that league for each seson and that can lead the analysis to another question which is: What are the factors that can affect a team winning a league? and not just a match. \n",
        "  "
      ],
      "attachments":{
        
      },
      "metadata":{
        
      }
    }
  ],
  "metadata":{
    
  },
  "nbformat":4,
  "nbformat_minor":0
}